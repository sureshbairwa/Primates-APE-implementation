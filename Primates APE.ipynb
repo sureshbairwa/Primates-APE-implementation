{
  "nbformat": 4,
  "nbformat_minor": 0,
  "metadata": {
    "colab": {
      "provenance": []
    },
    "kernelspec": {
      "name": "python3",
      "display_name": "Python 3"
    },
    "language_info": {
      "name": "python"
    }
  },
  "cells": [
    {
      "cell_type": "code",
      "source": [
        "import random\n",
        "key=[]\n",
        "for i in range(32): key.append(random.randint(0,31))\n",
        "print(key)"
      ],
      "metadata": {
        "colab": {
          "base_uri": "https://localhost:8080/"
        },
        "id": "2mVWaRKzDgeJ",
        "outputId": "77189ef0-8fdd-4d7f-b662-ae9ff51de62e"
      },
      "execution_count": null,
      "outputs": [
        {
          "output_type": "stream",
          "name": "stdout",
          "text": [
            "[12, 19, 25, 12, 27, 2, 12, 10, 22, 12, 28, 31, 12, 21, 25, 20, 11, 20, 4, 5, 23, 30, 1, 24, 0, 13, 25, 0, 31, 31, 7, 11]\n"
          ]
        }
      ]
    },
    {
      "cell_type": "code",
      "source": [
        "import random\n",
        "A=[]\n",
        "for i in range(8*20): A.append(random.randint(0,31))\n",
        "print(A)"
      ],
      "metadata": {
        "colab": {
          "base_uri": "https://localhost:8080/"
        },
        "id": "0zTCH53nD536",
        "outputId": "9fee38ac-3db0-4943-af06-e215ee333b78"
      },
      "execution_count": null,
      "outputs": [
        {
          "output_type": "stream",
          "name": "stdout",
          "text": [
            "[22, 27, 30, 28, 12, 16, 2, 16, 24, 8, 7, 7, 15, 30, 24, 8, 18, 27, 10, 11, 29, 8, 29, 14, 2, 9, 9, 22, 9, 27, 8, 8, 2, 2, 30, 7, 31, 4, 12, 9, 29, 9, 29, 28, 7, 29, 17, 7, 16, 19, 3, 18, 27, 23, 14, 7, 26, 20, 15, 1, 26, 18, 8, 27, 31, 25, 23, 26, 23, 16, 17, 14, 31, 19, 31, 26, 30, 6, 1, 2, 5, 27, 21, 21, 24, 19, 4, 24, 20, 22, 14, 16, 22, 26, 8, 29, 5, 27, 26, 13, 16, 21, 10, 2, 16, 19, 14, 16, 7, 8, 14, 22, 16, 25, 25, 16, 1, 1, 11, 21, 19, 27, 6, 14, 25, 13, 1, 20, 19, 11, 6, 23, 27, 2, 26, 16, 15, 12, 4, 11, 16, 21, 17, 27, 19, 0, 6, 31, 3, 6, 17, 11, 9, 22, 9, 4, 27, 23, 23, 24]\n"
          ]
        }
      ]
    },
    {
      "cell_type": "code",
      "source": [
        "import random\n",
        "M=[]\n",
        "for i in range(8*10): M.append(random.randint(0,31))\n",
        "print(M)"
      ],
      "metadata": {
        "colab": {
          "base_uri": "https://localhost:8080/"
        },
        "id": "3eDAPwW-HUuN",
        "outputId": "e6b8bcd2-1e4c-4eb4-e2f1-80373599f408"
      },
      "execution_count": null,
      "outputs": [
        {
          "output_type": "stream",
          "name": "stdout",
          "text": [
            "[0, 10, 4, 3, 29, 2, 19, 11, 27, 7, 7, 21, 22, 27, 28, 21, 8, 31, 15, 3, 20, 31, 26, 31, 30, 0, 26, 27, 21, 15, 19, 30, 0, 16, 1, 20, 9, 17, 9, 8, 25, 30, 10, 19, 24, 30, 26, 12, 4, 5, 29, 10, 2, 29, 30, 17, 16, 19, 28, 3, 10, 30, 6, 19, 6, 1, 9, 19, 22, 29, 8, 26, 31, 10, 24, 6, 5, 13, 24, 1]\n"
          ]
        }
      ]
    },
    {
      "cell_type": "code",
      "execution_count": null,
      "metadata": {
        "id": "Xjiuz8yVewTQ"
      },
      "outputs": [],
      "source": [
        "Sbox = [1,0,25,26,17,29,21,27,20,5,4,23,14,18,2,28,15,8,6,3,13,7,24,16,30,9,31,10,22,12,11,19]\n",
        "Sinv = {}\n",
        "for i in range(32):\n",
        "  Sinv[Sbox[i]]=i\n",
        "\n",
        "key=[12, 19, 25, 12, 27, 2, 12, 10, 22, 12, 28, 31, 12, 21, 25, 20, 11, 20, 4, 5, 23, 30, 1, 24, 0, 13, 25, 0, 31, 31, 7, 11]\n",
        "\n",
        "A=[22, 27, 30, 28, 12, 16, 2, 16, 24, 8, 7, 7, 15, 30, 24, 8, 18, 27, 10, 11, 29, 8, 29, 14, 2, 9, 9, 22, 9, 27, 8, 8, 2, 2, 30, 7, 31, 4, 12, 9, 29, 9, 29, 28, 7, 29, 17, 7, 16, 19, 3, 18, 27, 23, 14, 7, 26, 20, 15, 1, 26, 18, 8, 27, 31, 25, 23, 26, 23, 16, 17, 14, 31, 19, 31, 26, 30, 6, 1, 2, 5, 27, 21, 21, 24, 19, 4, 24, 20, 22, 14, 16, 22, 26, 8, 29, 5, 27, 26, 13, 16, 21, 10, 2, 16, 19, 14, 16, 7, 8, 14, 22, 16, 25, 25, 16, 1, 1, 11, 21, 19, 27, 6, 14, 25, 13, 1, 20, 19, 11, 6, 23, 27, 2, 26, 16, 15, 12, 4, 11, 16, 21, 17, 27, 19, 0, 6, 31, 3, 6, 17, 11, 9, 22, 9, 4, 27, 23, 23, 24]\n",
        "\n",
        "M=[0, 10, 4, 3, 29, 2, 19, 11, 27, 7, 7, 21, 22, 27, 28, 21, 8, 31, 15, 3, 20, 31, 26, 31, 30, 0, 26, 27, 21, 15, 19, 30, 0, 16, 1, 20, 9, 17, 9, 8, 25, 30, 10, 19, 24, 30, 26, 12, 4, 5, 29, 10, 2, 29, 30, 17, 16, 19, 28, 3, 10, 30, 6, 19, 6, 1, 9, 19, 22, 29, 8, 26, 31, 10, 24, 6, 5, 13, 24, 1]\n",
        "\n",
        "C=[]\n",
        "\n",
        "T=[0,0,0,0,0,0,0,0,0,0,0,0,0,0,0,0,0,0,0,0,0,0,0,0,0,0,0,0,0,0,0,0]\n",
        "\n",
        "state=[0,0,0,0,0,0,0,0]+key\n",
        "\n",
        "\n",
        "def SubBytes():\n",
        "  for i in range(40): state[i]=Sbox[state[i]]\n",
        "\n",
        "def ShiftRows():\n",
        "  state[0:8]=state[0:8]\n",
        "  state[8:16]=state[9:16]+state[8:9]\n",
        "  state[16:24]=state[18:24]+state[16:18]\n",
        "  state[24:32]=state[28:32]+state[24:28]\n",
        "  state[32:40]=state[39:40]+state[32:39]\n",
        "\n",
        "def MixColumns():\n",
        "  for i in range(5):\n",
        "    temp=[0,0,0,0,0]\n",
        "    for j in range(8):\n",
        "      temp[0]=state[8+j]\n",
        "      temp[1]=state[16+j]\n",
        "      temp[2]=state[24+j]\n",
        "      temp[3]=state[32+j]\n",
        "      temp[4]=state[j]+18*state[8+j]+2*state[16+j]+2*state[24+j]+18*state[32+j]\n",
        "      state[j]=temp[0]\n",
        "      state[8+j]=temp[1]\n",
        "      state[16+j]=temp[2]\n",
        "      state[24+j]=temp[3]\n",
        "      state[32+j]=temp[4]%32\n",
        "\n",
        "def ConstantAddition():\n",
        "  state[9]=state[9]^5\n",
        "\n",
        "def permutation():\n",
        "  for i in range(12):\n",
        "    SubBytes()\n",
        "    ShiftRows()\n",
        "    MixColumns()\n",
        "    ConstantAddition()\n",
        "\n",
        "def SpongeAbsorb():\n",
        "  for i in range(20):\n",
        "    for j in range(8):\n",
        "      state[j]=state[j]^A[i*8+j]\n",
        "    permutation()\n",
        "\n",
        "def SpongeSqueeze():\n",
        "  global C\n",
        "  for i in range(10):\n",
        "    for j in range(8):\n",
        "      state[j]=state[j]^M[i*8+j]\n",
        "    permutation()\n",
        "    C=C+state[0:8]\n",
        "  for i in range(32):\n",
        "    T[i]=key[i]^state[i+8]\n",
        "\n",
        "SpongeAbsorb()\n",
        "SpongeSqueeze()"
      ]
    },
    {
      "cell_type": "code",
      "source": [
        "for i in range(10):\n",
        "  for j in range(8):\n",
        "    print(C[i*8+j],end=\"\\t\")\n",
        "  print(\"\")"
      ],
      "metadata": {
        "colab": {
          "base_uri": "https://localhost:8080/"
        },
        "id": "Kd3_sw1WTf6Z",
        "outputId": "048ffb75-adcb-4ba0-d7f8-95e4058d5e3c"
      },
      "execution_count": null,
      "outputs": [
        {
          "output_type": "stream",
          "name": "stdout",
          "text": [
            "3\t7\t16\t2\t26\t19\t6\t9\t\n",
            "17\t11\t10\t21\t13\t1\t15\t20\t\n",
            "7\t16\t16\t14\t14\t17\t8\t31\t\n",
            "15\t27\t19\t21\t8\t9\t2\t17\t\n",
            "6\t8\t30\t13\t23\t14\t15\t7\t\n",
            "4\t0\t20\t20\t28\t23\t6\t3\t\n",
            "27\t1\t3\t20\t25\t7\t22\t31\t\n",
            "17\t6\t11\t19\t22\t14\t17\t6\t\n",
            "25\t15\t15\t24\t27\t6\t3\t0\t\n",
            "1\t3\t13\t29\t4\t25\t7\t5\t\n"
          ]
        }
      ]
    },
    {
      "cell_type": "code",
      "source": [
        "for i in range(4):\n",
        "  for j in range(8):\n",
        "    print(T[i*8+j],end=\"\\t\")\n",
        "  print(\"\")"
      ],
      "metadata": {
        "colab": {
          "base_uri": "https://localhost:8080/"
        },
        "id": "D5kL6QUSTg_U",
        "outputId": "70626ff4-e0ad-4c91-fb5e-2b029bbf2d88"
      },
      "execution_count": null,
      "outputs": [
        {
          "output_type": "stream",
          "name": "stdout",
          "text": [
            "25\t8\t24\t15\t16\t10\t0\t30\t\n",
            "8\t10\t12\t15\t0\t23\t10\t11\t\n",
            "28\t26\t17\t23\t29\t7\t16\t6\t\n",
            "8\t16\t14\t14\t12\t8\t20\t22\t\n"
          ]
        }
      ]
    },
    {
      "cell_type": "code",
      "source": [
        "Sbox = [1,0,25,26,17,29,21,27,20,5,4,23,14,18,2,28,15,8,6,3,13,7,24,16,30,9,31,10,22,12,11,19]\n",
        "Sinv = {}\n",
        "for i in range(32):\n",
        "  Sinv[Sbox[i]]=i\n",
        "\n",
        "key=[12, 19, 25, 12, 27, 2, 12, 10, 22, 12, 28, 31, 12, 21, 25, 20, 11, 20, 4, 5, 23, 30, 1, 24, 0, 13, 25, 0, 31, 31, 7, 11]\n",
        "\n",
        "A=[22, 27, 30, 28, 12, 16, 2, 16, 24, 8, 7, 7, 15, 30, 24, 8, 18, 27, 10, 11, 29, 8, 29, 14, 2, 9, 9, 22, 9, 27, 8, 8, 2, 2, 30, 7, 31, 4, 12, 9, 29, 9, 29, 28, 7, 29, 17, 7, 16, 19, 3, 18, 27, 23, 14, 7, 26, 20, 15, 1, 26, 18, 8, 27, 31, 25, 23, 26, 23, 16, 17, 14, 31, 19, 31, 26, 30, 6, 1, 2, 5, 27, 21, 21, 24, 19, 4, 24, 20, 22, 14, 16, 22, 26, 8, 29, 5, 27, 26, 13, 16, 21, 10, 2, 16, 19, 14, 16, 7, 8, 14, 22, 16, 25, 25, 16, 1, 1, 11, 21, 19, 27, 6, 14, 25, 13, 1, 20, 19, 11, 6, 23, 27, 2, 26, 16, 15, 12, 4, 11, 16, 21, 17, 27, 19, 0, 6, 31, 3, 6, 17, 11, 9, 22, 9, 4, 27, 23, 23, 24]\n",
        "\n",
        "state=[0,0,0,0,0,0,0,0]+key\n",
        "\n",
        "\n",
        "def ISubBytes():\n",
        "  for i in range(40): state[i]=Sinv[state[i]]\n",
        "\n",
        "def IShiftRows():\n",
        "  state[0:8]=state[0:8]\n",
        "  state[8:16]=state[15:16]+state[8:15]\n",
        "  state[16:24]=state[22:24]+state[16:22]\n",
        "  state[24:32]=state[28:32]+state[24:28]\n",
        "  state[32:40]=state[33:40]+state[32:33]\n",
        "\n",
        "def IMixColumns():\n",
        "  for i in range(5):\n",
        "    temp=[0,0,0,0,0]\n",
        "    for j in range(8):\n",
        "      temp[1]=state[j]\n",
        "      temp[2]=state[8+j]\n",
        "      temp[3]=state[16+j]\n",
        "      temp[4]=state[24+j]\n",
        "      temp[0]=state[32+j]-(18*state[j]+2*state[8+j]+2*state[16+j]+18*state[24+j])\n",
        "      state[j]=temp[0]%32\n",
        "      state[8+j]=temp[1]\n",
        "      state[16+j]=temp[2]\n",
        "      state[24+j]=temp[3]\n",
        "      state[32+j]=temp[4]\n",
        "\n",
        "def IConstantAddition():\n",
        "  state[9]=state[9]^5\n",
        "\n",
        "def Ipermutation():\n",
        "  for i in range(12):\n",
        "    IConstantAddition()\n",
        "    IMixColumns()\n",
        "    IShiftRows()\n",
        "    ISubBytes()\n",
        "\n",
        "def Decrypt():\n",
        "  pass\n",
        "\n",
        "SpongeAbsorb()\n",
        "IV=state[0:8]\n",
        "\n",
        "state=C[72:]+key\n",
        "for i in range(32):\n",
        "  state[i+8]=state[i+8]^T[i]\n",
        "Ipermutation()\n",
        "m=state[:8]\n",
        "for j in range(8):m[j]=m[j]^C[64+j]\n",
        "\n",
        "for i in range(8,0,-1):\n",
        "  for j in range(8):\n",
        "    state[j]=C[8*i+j]\n",
        "  Ipermutation()\n",
        "  m=state[:8]+m\n",
        "  for j in range(8):m[j]=m[j]^C[8*(i-1)+j]\n",
        "\n",
        "for j in range(8):\n",
        "  state[j]=C[j]\n",
        "Ipermutation()\n",
        "m=state[:8]+m\n",
        "for j in range(8):m[j]=m[j]^IV[j]\n"
      ],
      "metadata": {
        "id": "YuMIjYtWUuFj"
      },
      "execution_count": null,
      "outputs": []
    },
    {
      "cell_type": "code",
      "source": [
        "for i in range(10):\n",
        "  for j in range(8):\n",
        "    print(m[i*8+j],end=\"\\t\")\n",
        "  print(\"\")"
      ],
      "metadata": {
        "colab": {
          "base_uri": "https://localhost:8080/"
        },
        "id": "onnnqa9hi9Pl",
        "outputId": "e3e27776-946e-4d23-e969-99e0350d5484"
      },
      "execution_count": null,
      "outputs": [
        {
          "output_type": "stream",
          "name": "stdout",
          "text": [
            "0\t10\t4\t3\t29\t2\t19\t11\t\n",
            "27\t7\t7\t21\t22\t27\t28\t21\t\n",
            "8\t31\t15\t3\t20\t31\t26\t31\t\n",
            "30\t0\t26\t27\t21\t15\t19\t30\t\n",
            "0\t16\t1\t20\t9\t17\t9\t8\t\n",
            "25\t30\t10\t19\t24\t30\t26\t12\t\n",
            "4\t5\t29\t10\t2\t29\t30\t17\t\n",
            "16\t19\t28\t3\t10\t30\t6\t19\t\n",
            "6\t1\t9\t19\t22\t29\t8\t26\t\n",
            "31\t10\t24\t6\t5\t13\t24\t1\t\n"
          ]
        }
      ]
    },
    {
      "cell_type": "code",
      "source": [
        "for i in range(10):\n",
        "  for j in range(8):\n",
        "    print(M[i*8+j],end=\"\\t\")\n",
        "  print(\"\")"
      ],
      "metadata": {
        "colab": {
          "base_uri": "https://localhost:8080/"
        },
        "id": "SHeGfqgtwWzA",
        "outputId": "fdde000b-3249-4efe-da64-30cac74d1fc8"
      },
      "execution_count": null,
      "outputs": [
        {
          "output_type": "stream",
          "name": "stdout",
          "text": [
            "0\t10\t4\t3\t29\t2\t19\t11\t\n",
            "27\t7\t7\t21\t22\t27\t28\t21\t\n",
            "8\t31\t15\t3\t20\t31\t26\t31\t\n",
            "30\t0\t26\t27\t21\t15\t19\t30\t\n",
            "0\t16\t1\t20\t9\t17\t9\t8\t\n",
            "25\t30\t10\t19\t24\t30\t26\t12\t\n",
            "4\t5\t29\t10\t2\t29\t30\t17\t\n",
            "16\t19\t28\t3\t10\t30\t6\t19\t\n",
            "6\t1\t9\t19\t22\t29\t8\t26\t\n",
            "31\t10\t24\t6\t5\t13\t24\t1\t\n"
          ]
        }
      ]
    }
  ]
}